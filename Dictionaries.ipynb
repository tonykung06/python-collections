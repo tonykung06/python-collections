{
 "cells": [
  {
   "cell_type": "markdown",
   "id": "d2c303a3-1bae-4c3a-8c9b-169df308ed7a",
   "metadata": {
    "slideshow": {
     "slide_type": "slide"
    }
   },
   "source": [
    "# Dictionaries\n",
    "\n",
    "- Used for storing data in key:value pairs\n",
    "- Dynamic\n",
    "- Mutable\n",
    "- Random access by keys (associative array, key-value pairs)\n",
    "- Ordered (as of Python 3.7)\n",
    "- Can be passed to the len() function"
   ]
  },
  {
   "cell_type": "markdown",
   "id": "b715b6e1-7143-4b21-a523-078753f099ca",
   "metadata": {
    "slideshow": {
     "slide_type": "slide"
    }
   },
   "source": [
    "## Creating Dictionaries\n",
    "\n",
    "Duplicate keys are not allowed. "
   ]
  },
  {
   "cell_type": "code",
   "execution_count": 1,
   "id": "c6b7e75c-61b7-49ea-8ada-9dda2bdc379e",
   "metadata": {
    "slideshow": {
     "slide_type": "fragment"
    }
   },
   "outputs": [
    {
     "name": "stdout",
     "output_type": "stream",
     "text": [
      "{}\n",
      "{'name': 'Some name', 'age': 30, 'city': 'Some city'}\n"
     ]
    }
   ],
   "source": [
    "# Creating an empty dictionary\n",
    "my_dict = {}\n",
    "print(my_dict)\n",
    "\n",
    "# Creating a dictionary with initial key-value pairs\n",
    "person_info = {\"name\": \"Some name\", \"age\": 30, \"city\": \"Some city\"}\n",
    "print(person_info)"
   ]
  },
  {
   "cell_type": "markdown",
   "id": "b8013744-acba-4cd2-a3a9-87b39e53159c",
   "metadata": {
    "slideshow": {
     "slide_type": "slide"
    }
   },
   "source": [
    "## Accessing Elements in a Dictionary\n",
    "\n",
    "Accessing elements in a dictionary is done using keys. This is a fundamental operation because it allows you to retrieve the value associated with a specific key. It's efficient and fast, making dictionaries an optimal choice for datasets where quick lookup of information is important. Python will throw an exception if you try to use the key that is not in the dictionary."
   ]
  },
  {
   "cell_type": "code",
   "execution_count": 2,
   "id": "40b9308b-7fa9-4f2e-b37c-c0f913d0119a",
   "metadata": {
    "scrolled": true,
    "slideshow": {
     "slide_type": "slide"
    }
   },
   "outputs": [
    {
     "name": "stdout",
     "output_type": "stream",
     "text": [
      "Price of apple: 2\n",
      "Price of banana: 3\n",
      "Price of apple: 2\n",
      "Price of mango: Price not found\n"
     ]
    }
   ],
   "source": [
    "fruit = {\"apple\": 2, \"banana\": 3}\n",
    "\n",
    "print(\"Price of apple:\", fruit[\"apple\"])\n",
    "print(\"Price of banana:\", fruit[\"banana\"])\n",
    "\n",
    "# The get() method will return None (or the default value) if the key doesn't exist\n",
    "print(\"Price of apple:\", fruit.get(\"apple\", \"Price not found\"))\n",
    "print(\"Price of mango:\", fruit.get(\"mango\", \"Price not found\"))"
   ]
  },
  {
   "cell_type": "markdown",
   "id": "679a43ec-77b7-4383-94a9-88cc57967281",
   "metadata": {
    "slideshow": {
     "slide_type": "slide"
    }
   },
   "source": [
    "## Adding and Updating Elements\n",
    "\n",
    "Since dictionaries are mutable, adding new key-value pairs or updating the value of existing keys is a straightforward process. This feature is particularly useful when you are building or modifying data dynamically."
   ]
  },
  {
   "cell_type": "code",
   "execution_count": 3,
   "id": "7276640c-a677-4462-a6ab-5b2a906b0764",
   "metadata": {
    "slideshow": {
     "slide_type": "fragment"
    }
   },
   "outputs": [
    {
     "name": "stdout",
     "output_type": "stream",
     "text": [
      "my_dict: {'language': 'JavaScript', 'version': 'ES6', 'typing': 'dynamic'}\n",
      "merged_dict: {'language': 'JavaScript', 'version': 'ES7', 'typing': 'dynamic', 'new_key': 'new_value'}\n"
     ]
    }
   ],
   "source": [
    "my_dict = {}\n",
    "# Adding a new key-value pair\n",
    "my_dict[\"language\"] = \"Python\"\n",
    "# Updating an existing value\n",
    "my_dict[\"language\"] = \"JavaScript\"\n",
    "# Adding multiple elements\n",
    "my_dict.update({\"version\": \"ES6\", \"typing\": \"dynamic\"})\n",
    "# There is also an alternative update operator |= that works in the same way\n",
    "# my_dict |= other_dict\n",
    "\n",
    "# You can merge two dictionaries with the merge operator\n",
    "merged_dict = my_dict | {\"new_key\": \"new_value\", \"version\": \"ES7\"}\n",
    "print(\"my_dict:\", my_dict)\n",
    "print(\"merged_dict:\", merged_dict)"
   ]
  },
  {
   "cell_type": "markdown",
   "id": "afa3abbe-42c8-4527-b138-29624572bf75",
   "metadata": {
    "slideshow": {
     "slide_type": "slide"
    }
   },
   "source": [
    "## Removing Elements from a Dictionary\n",
    "\n",
    "The ability to remove elements from a dictionary is crucial for managing and maintaining datasets, especially when certain data points become irrelevant or need to be purged for efficiency or accuracy."
   ]
  },
  {
   "cell_type": "code",
   "execution_count": 4,
   "id": "354c912d-f3ac-4f1f-9b25-4d5d19d105e3",
   "metadata": {
    "slideshow": {
     "slide_type": "fragment"
    }
   },
   "outputs": [
    {
     "name": "stdout",
     "output_type": "stream",
     "text": [
      "Removed version: 3.8\n",
      "Release year element: ('release_year', '2019')\n",
      "Current dictionary: {}\n"
     ]
    }
   ],
   "source": [
    "my_dict = {\"language\": \"Python\", \"release_year\": \"2019\", \"version\": \"3.8\", \"platform\": \"Windows\"}\n",
    "# Removing a specific element\n",
    "del my_dict[\"platform\"]\n",
    "# Removing and returning a value from the provided key (useful for use cases where you need the value after removal)\n",
    "version = my_dict.pop(\"version\")\n",
    "# Removing and returning last element (key and value) from the dictionary\n",
    "release_year = my_dict.popitem()\n",
    "# Clearing all elements from the dictionary\n",
    "my_dict.clear()\n",
    "\n",
    "print(\"Removed version:\", version)\n",
    "print(\"Release year element:\", release_year)\n",
    "print(\"Current dictionary:\", my_dict)"
   ]
  },
  {
   "cell_type": "markdown",
   "id": "3dfdfb0e-5013-4a4b-9334-69c08a7a8cf3",
   "metadata": {
    "slideshow": {
     "slide_type": "slide"
    }
   },
   "source": [
    "## Iterating Over a Dictionary\n",
    "\n",
    "Iterating over a dictionary allows you to access each key-value pair stored within it. This is particularly useful for operations that require you to examine or manipulate all elements in the dictionary, such as filtering data, transforming values, or simply printing out contents for review."
   ]
  },
  {
   "cell_type": "code",
   "execution_count": 5,
   "id": "60cf36e8-d629-40c0-a5dc-9a2f787f97b4",
   "metadata": {
    "slideshow": {
     "slide_type": "slide"
    }
   },
   "outputs": [
    {
     "name": "stdout",
     "output_type": "stream",
     "text": [
      "name: Some name\n",
      "age: 28\n",
      "city: Some city\n",
      "Key: name\n",
      "Key: age\n",
      "Key: city\n",
      "Value: Some name\n",
      "Value: 28\n",
      "Value: Some city\n"
     ]
    }
   ],
   "source": [
    "person_info = {\"name\": \"Some name\", \"age\": 28, \"city\": \"Some city\"}\n",
    "\n",
    "# Iterating over keys and values\n",
    "for key, value in person_info.items():\n",
    "    print(f\"{key}: {value}\")\n",
    "\n",
    "# Iterating over keys\n",
    "for key in person_info.keys():\n",
    "    print(f\"Key: {key}\")\n",
    "\n",
    "# Iterating over values\n",
    "for value in person_info.values():\n",
    "    print(f\"Value: {value}\")"
   ]
  },
  {
   "cell_type": "markdown",
   "id": "4af88a19-f359-4ee9-beea-5a146d4c006c",
   "metadata": {
    "slideshow": {
     "slide_type": "slide"
    }
   },
   "source": [
    "## Checking for Key Existence\n",
    "\n",
    "Before attempting to access or manipulate a value associated with a specific key, it's often wise to check if the key exists in the dictionary. This prevents errors and allows for safe handling of data, especially in dynamic environments where the dictionary's contents might change."
   ]
  },
  {
   "cell_type": "code",
   "execution_count": 6,
   "id": "be63669b-a4af-428f-ae67-13ef78aeca94",
   "metadata": {
    "slideshow": {
     "slide_type": "fragment"
    }
   },
   "outputs": [
    {
     "name": "stdout",
     "output_type": "stream",
     "text": [
      "Version found: 3.9\n"
     ]
    }
   ],
   "source": [
    "my_dict = {\"language\": \"Python\", \"version\": \"3.9\"}\n",
    "\n",
    "# Checking if a key exists\n",
    "if \"version\" in my_dict:\n",
    "    print(\"Version found:\", my_dict[\"version\"])\n",
    "else:\n",
    "    print(\"Version key does not exist.\")"
   ]
  },
  {
   "cell_type": "markdown",
   "id": "97558f1c-44be-491f-b087-274bb3f96727",
   "metadata": {
    "slideshow": {
     "slide_type": "slide"
    }
   },
   "source": [
    "## Dictionary Comprehensions\n",
    "\n",
    "Dictionary comprehensions offer a concise way to create dictionaries from iterables or transform existing dictionaries. This feature simplifies the process of generating dictionaries dynamically, allowing for efficient data manipulation and transformation inline."
   ]
  },
  {
   "cell_type": "code",
   "execution_count": 7,
   "id": "efffcf07-e864-4041-9c80-ea4565332f06",
   "metadata": {
    "slideshow": {
     "slide_type": "slide"
    }
   },
   "outputs": [
    {
     "name": "stdout",
     "output_type": "stream",
     "text": [
      "Squares: {0: 0, 1: 1, 2: 4, 3: 9, 4: 16, 5: 25}\n",
      "Inverted dict: {1: 'a', 2: 'b', 3: 'c', 4: 'd'}\n"
     ]
    }
   ],
   "source": [
    "# Using dictionary comprehension to create a dictionary\n",
    "squares = {x: x*x for x in range(6)}\n",
    "\n",
    "print(\"Squares:\", squares)\n",
    "\n",
    "# Transforming a dictionary\n",
    "original_dict = {\"a\": 1, \"b\": 2, \"c\": 3, \"d\": 4}\n",
    "inverted_dict = {value: key for key, value in original_dict.items()}\n",
    "\n",
    "print(\"Inverted dict:\", inverted_dict)"
   ]
  },
  {
   "cell_type": "markdown",
   "id": "d9561722-dfa3-44ac-99f3-8cf07912faf2",
   "metadata": {
    "slideshow": {
     "slide_type": "slide"
    }
   },
   "source": [
    "## Copying Dictionaries\n",
    "\n",
    "Copying is crucial when you need to duplicate a dictionary and work with it without affecting the original. Python dictionaries can be copied using the `copy()` method for shallow copies and `copy.deepcopy()` for deep copies when dealing with nested dictionaries."
   ]
  },
  {
   "cell_type": "code",
   "execution_count": 8,
   "id": "f69875df-4d42-4890-a39d-bb344633f9d8",
   "metadata": {
    "slideshow": {
     "slide_type": "slide"
    }
   },
   "outputs": [
    {
     "name": "stdout",
     "output_type": "stream",
     "text": [
      "Original Dict: {'name': 'Some name', 'hobbies': ['reading', 'traveling', 'hiking']}\n",
      "Shallow Copied Dict: {'name': 'Some name', 'hobbies': ['reading', 'traveling', 'hiking'], 'age': 30}\n",
      "Deep Copied Dict: {'name': 'Some name', 'hobbies': ['reading', 'traveling', 'swimming']}\n"
     ]
    }
   ],
   "source": [
    "import copy\n",
    "\n",
    "# Original dictionary\n",
    "original_dict = {\"name\": \"Some name\", \"hobbies\": [\"reading\", \"traveling\"]}\n",
    "\n",
    "# Shallow copy\n",
    "shallow_copied_dict = original_dict.copy()\n",
    "shallow_copied_dict[\"age\"] = 30\n",
    "\n",
    "# Deep copy\n",
    "deep_copied_dict = copy.deepcopy(original_dict)\n",
    "\n",
    "# Modifying the copies\n",
    "shallow_copied_dict[\"hobbies\"].append(\"hiking\")\n",
    "deep_copied_dict[\"hobbies\"].append(\"swimming\")\n",
    "\n",
    "print(\"Original Dict:\", original_dict)\n",
    "print(\"Shallow Copied Dict:\", shallow_copied_dict)\n",
    "print(\"Deep Copied Dict:\", deep_copied_dict)"
   ]
  },
  {
   "cell_type": "markdown",
   "id": "e43d2fca-cd5d-46e3-9faf-4aac683e95e3",
   "metadata": {
    "slideshow": {
     "slide_type": "slide"
    }
   },
   "source": [
    "## Using the `setdefault()` method\n",
    "\n",
    "The `setdefault()` method in Python dictionaries is a convenient way to get the value of a key if it is in the dictionary, and if not, to insert the key with a specified value. This method simplifies the process of checking for a key's existence and potentially adding a new key-value pair if the key does not exist."
   ]
  },
  {
   "cell_type": "code",
   "execution_count": 9,
   "id": "0501d020-c764-4908-9c69-89674de7a130",
   "metadata": {
    "slideshow": {
     "slide_type": "slide"
    }
   },
   "outputs": [
    {
     "name": "stdout",
     "output_type": "stream",
     "text": [
      "Value of a: 1\n",
      "Dictionary: {'a': 1, 'b': 2}\n",
      "Value of c: 99\n",
      "Dictionary: {'a': 1, 'b': 2, 'c': 99}\n"
     ]
    }
   ],
   "source": [
    "my_dict = {\"a\": 1, \"b\": 2}\n",
    "\n",
    "# \"a\" exists, so it returns the value of \"a\"\n",
    "value_a = my_dict.setdefault(\"a\", 99)\n",
    "print(\"Value of a:\", value_a)\n",
    "print(\"Dictionary:\", my_dict)\n",
    "\n",
    "# \"c\" does not exist, so it adds \"c\" with the default value 99\n",
    "value_c = my_dict.setdefault(\"c\", 99)\n",
    "print(\"Value of c:\", value_c)\n",
    "print(\"Dictionary:\", my_dict)"
   ]
  },
  {
   "cell_type": "code",
   "execution_count": 10,
   "id": "e0329e6b-963f-4fea-aad9-851897902b7f",
   "metadata": {
    "slideshow": {
     "slide_type": "slide"
    }
   },
   "outputs": [
    {
     "name": "stdout",
     "output_type": "stream",
     "text": [
      "{'a': ['apple', 'apricot'], 'p': ['pear'], 'b': ['banana', 'blueberry'], 'o': ['orange']}\n"
     ]
    }
   ],
   "source": [
    "fruit = [\"apple\", \"pear\", \"banana\", \"apricot\", \"blueberry\", \"orange\"]\n",
    "\n",
    "groups = {}\n",
    "for item in fruit:\n",
    "    key = item[0]  # Group by the first letter of the item\n",
    "    groups.setdefault(key, []).append(item)\n",
    "\n",
    "print(groups) "
   ]
  },
  {
   "cell_type": "markdown",
   "id": "af05d654-fd63-4acb-bf06-6101ec34337e",
   "metadata": {
    "slideshow": {
     "slide_type": "slide"
    }
   },
   "source": [
    "## Sorting Dictionaries\n",
    "\n",
    "Sorting dictionaries can be necessary for data analysis, reporting, or simply improving readability. Python provides ways to sort dictionaries by key or value, making it easier to organize and analyze the contained data."
   ]
  },
  {
   "cell_type": "code",
   "execution_count": 11,
   "id": "3802beb1-f48e-4b92-899d-95221f0242f9",
   "metadata": {
    "slideshow": {
     "slide_type": "slide"
    }
   },
   "outputs": [
    {
     "name": "stdout",
     "output_type": "stream",
     "text": [
      "scores.items(): dict_items([('KeyC', 42), ('KeyA', 25), ('KeyB', 162)])\n",
      "Sorted by key: {'KeyA': 25, 'KeyB': 162, 'KeyC': 42}\n",
      "Sorted by value: {'KeyA': 25, 'KeyC': 42, 'KeyB': 162}\n"
     ]
    }
   ],
   "source": [
    "from operator import itemgetter\n",
    "\n",
    "# Dictionary to sort\n",
    "scores = {\"KeyC\": 42, \"KeyA\": 25, \"KeyB\": 162}\n",
    "print(\"scores.items():\", scores.items())\n",
    "\n",
    "# Sorting by key\n",
    "sorted_by_key = dict(sorted(scores.items()))\n",
    "print(\"Sorted by key:\", sorted_by_key)\n",
    "\n",
    "# Sorting by value\n",
    "# sorted_by_value = dict(sorted(scores.items(), key=lambda item: item[1]))\n",
    "sorted_by_value = dict(sorted(scores.items(), key=itemgetter(1)))\n",
    "print(\"Sorted by value:\", sorted_by_value)"
   ]
  }
 ],
 "metadata": {
  "celltoolbar": "Slideshow",
  "kernelspec": {
   "display_name": "Python 3 (ipykernel)",
   "language": "python",
   "name": "python3"
  },
  "language_info": {
   "codemirror_mode": {
    "name": "ipython",
    "version": 3
   },
   "file_extension": ".py",
   "mimetype": "text/x-python",
   "name": "python",
   "nbconvert_exporter": "python",
   "pygments_lexer": "ipython3",
   "version": "3.11.7"
  }
 },
 "nbformat": 4,
 "nbformat_minor": 5
}
