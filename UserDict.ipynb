{
 "cells": [
  {
   "cell_type": "markdown",
   "id": "d0b94e4e-864f-487c-b381-f98e0de1713d",
   "metadata": {
    "slideshow": {
     "slide_type": "slide"
    }
   },
   "source": [
    "# UserDict\n",
    "\n",
    "`UserDict` is a wrapper around the built-in `dict` class. The contents of the `UserDict` instance are stored in a real `dict` object which you can access through the `data` attribute."
   ]
  },
  {
   "cell_type": "markdown",
   "id": "bd4e64cb-d654-44b3-ae44-216d043d543c",
   "metadata": {
    "slideshow": {
     "slide_type": "slide"
    }
   },
   "source": [
    "# Modifying the Standard Dictionary Features"
   ]
  },
  {
   "cell_type": "code",
   "execution_count": 1,
   "id": "1d4b5123-dd2f-46a7-91ee-9f3a26753a38",
   "metadata": {
    "slideshow": {
     "slide_type": "fragment"
    }
   },
   "outputs": [
    {
     "name": "stdout",
     "output_type": "stream",
     "text": [
      "{'a': '1', 'b': '2', 'c': '3'}\n"
     ]
    }
   ],
   "source": [
    "from collections import UserDict\n",
    "\n",
    "class StringDict(UserDict):\n",
    "    def __setitem__(self, key, value):\n",
    "        if not isinstance(value, str):\n",
    "            raise TypeError(f\"Value must be of type string\")\n",
    "        super().__setitem__(key, value)\n",
    "\n",
    "d = StringDict({\"a\": \"1\"})\n",
    "d[\"b\"] = \"2\"\n",
    "d.update({\"c\": \"3\"})\n",
    "print(d)"
   ]
  },
  {
   "cell_type": "code",
   "execution_count": 2,
   "id": "feee03d3-5653-45fd-8410-2abde81689b2",
   "metadata": {
    "slideshow": {
     "slide_type": "slide"
    }
   },
   "outputs": [
    {
     "name": "stdout",
     "output_type": "stream",
     "text": [
      "{'a': 1, 'b': '2', 'c': 3}\n"
     ]
    }
   ],
   "source": [
    "class StringDict(dict):\n",
    "    def __setitem__(self, key, value):\n",
    "        if not isinstance(value, str):\n",
    "            raise TypeError(f\"Value must be of type string\")\n",
    "        super().__setitem__(key, value)\n",
    "\n",
    "d = StringDict({\"a\": 1})\n",
    "d[\"b\"] = \"2\"\n",
    "d.update({\"c\": 3})\n",
    "print(d)"
   ]
  }
 ],
 "metadata": {
  "celltoolbar": "Slideshow",
  "kernelspec": {
   "display_name": "Python 3 (ipykernel)",
   "language": "python",
   "name": "python3"
  },
  "language_info": {
   "codemirror_mode": {
    "name": "ipython",
    "version": 3
   },
   "file_extension": ".py",
   "mimetype": "text/x-python",
   "name": "python",
   "nbconvert_exporter": "python",
   "pygments_lexer": "ipython3",
   "version": "3.11.7"
  }
 },
 "nbformat": 4,
 "nbformat_minor": 5
}
