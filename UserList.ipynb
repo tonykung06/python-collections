{
 "cells": [
  {
   "cell_type": "markdown",
   "id": "f61a1dc5-acd5-4fdc-b3c7-690d70163f53",
   "metadata": {
    "slideshow": {
     "slide_type": "slide"
    }
   },
   "source": [
    "# UserList\n",
    "\n",
    "`UserList` is a wrapper around the built-in `list` class. The contents of the `UserList` instance are stored in a real `list` object which you can access through the `data` attribute."
   ]
  },
  {
   "cell_type": "markdown",
   "id": "7f16c6ef-010e-4a6d-a7ff-c506fbf80339",
   "metadata": {
    "slideshow": {
     "slide_type": "slide"
    }
   },
   "source": [
    "# Extending and Modifying the Standard List Features"
   ]
  },
  {
   "cell_type": "code",
   "execution_count": 1,
   "id": "e22c83d6-7375-4763-9fe5-5a962082350e",
   "metadata": {
    "slideshow": {
     "slide_type": "slide"
    }
   },
   "outputs": [
    {
     "name": "stdout",
     "output_type": "stream",
     "text": [
      "[1, 2, 3, 4]\n",
      "[1, 2, 3, 4, 5]\n",
      "[1, 2, 3, 4, 5, 6, 7]\n"
     ]
    }
   ],
   "source": [
    "class UniqueList(list):\n",
    "    def __init__(self, iterable=[]):\n",
    "        super().__init__()\n",
    "        self.extend(iterable)\n",
    "\n",
    "    def append(self, item):\n",
    "        if item not in self:\n",
    "            super().append(item)\n",
    "\n",
    "    def extend(self, iterable):\n",
    "        for item in iterable:\n",
    "            self.append(item)\n",
    "\n",
    "# Initialize with duplicates in the list\n",
    "unique_list = UniqueList([1, 2, 2, 3, 4, 4, 4])\n",
    "print(unique_list)\n",
    "\n",
    "unique_list.append(5)\n",
    "unique_list.append(5)  # Attempt to add a duplicate\n",
    "print(unique_list)\n",
    "unique_list.extend([6, 6, 7])\n",
    "print(unique_list)"
   ]
  },
  {
   "cell_type": "code",
   "execution_count": 2,
   "id": "783b56e9-5ad7-4aef-88b0-0949ce5cf062",
   "metadata": {
    "slideshow": {
     "slide_type": "slide"
    }
   },
   "outputs": [
    {
     "name": "stdout",
     "output_type": "stream",
     "text": [
      "[1, 2, 3, 4]\n",
      "[1, 2, 3, 4, 5]\n",
      "[1, 2, 3, 4, 5, 6, 7]\n"
     ]
    }
   ],
   "source": [
    "from collections import UserList\n",
    "\n",
    "class UniqueList(UserList):\n",
    "    def __init__(self, iterable=[]):\n",
    "        super().__init__()\n",
    "        self.extend(iterable)\n",
    "\n",
    "    def append(self, item):\n",
    "        # self.data instead of just self\n",
    "        if item not in self.data:\n",
    "            super().append(item)\n",
    "\n",
    "    def extend(self, iterable):\n",
    "        for item in iterable:\n",
    "            self.append(item)\n",
    "\n",
    "unique_list = UniqueList([1, 2, 2, 3, 4, 4, 4])\n",
    "print(unique_list)\n",
    "\n",
    "unique_list.append(5)\n",
    "unique_list.append(5)\n",
    "print(unique_list)\n",
    "unique_list.extend([6, 6, 7])\n",
    "print(unique_list)"
   ]
  }
 ],
 "metadata": {
  "celltoolbar": "Slideshow",
  "kernelspec": {
   "display_name": "Python 3 (ipykernel)",
   "language": "python",
   "name": "python3"
  },
  "language_info": {
   "codemirror_mode": {
    "name": "ipython",
    "version": 3
   },
   "file_extension": ".py",
   "mimetype": "text/x-python",
   "name": "python",
   "nbconvert_exporter": "python",
   "pygments_lexer": "ipython3",
   "version": "3.11.7"
  }
 },
 "nbformat": 4,
 "nbformat_minor": 5
}
