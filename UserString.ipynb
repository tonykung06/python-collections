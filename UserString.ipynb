{
 "cells": [
  {
   "cell_type": "markdown",
   "id": "7298d9c1-0b07-4eae-817d-8d52dec9e1ec",
   "metadata": {
    "slideshow": {
     "slide_type": "slide"
    }
   },
   "source": [
    "# UserString\n",
    "\n",
    "`UserString` is a wrapper around the built-in `str` class. The contents of the `UserString` instance are stored in a real `str` object which you can access through the `data` attribute."
   ]
  },
  {
   "cell_type": "markdown",
   "id": "8960d08c-fe1c-480c-88b9-fc7732a5709a",
   "metadata": {
    "slideshow": {
     "slide_type": "slide"
    }
   },
   "source": [
    "## Extending the Standard String Features"
   ]
  },
  {
   "cell_type": "code",
   "execution_count": 1,
   "id": "eb9417f2-62a1-42bc-a87f-97970758ed72",
   "metadata": {
    "slideshow": {
     "slide_type": "fragment"
    }
   },
   "outputs": [
    {
     "name": "stdout",
     "output_type": "stream",
     "text": [
      "True\n",
      "True\n"
     ]
    }
   ],
   "source": [
    "from collections import UserString\n",
    "\n",
    "class PalindromeString(UserString):\n",
    "    def is_palindrome(self):\n",
    "        cleaned = ''.join(filter(str.isalnum, self.data.lower()))\n",
    "        return cleaned == cleaned[::-1]\n",
    "\n",
    "class StrPalindromeString(str):\n",
    "    def is_palindrome(self):\n",
    "        cleaned = ''.join(filter(str.isalnum, self.lower()))\n",
    "        return cleaned == cleaned[::-1]\n",
    "\n",
    "str1 = PalindromeString(\"A man, a plan, a canal, Panama\")\n",
    "str2 = StrPalindromeString(\"A man, a plan, a canal, Panama\")\n",
    "print(str1.is_palindrome())\n",
    "print(str2.is_palindrome())"
   ]
  },
  {
   "cell_type": "markdown",
   "id": "977de16c-b0b6-4549-9c0e-9b7d08e3c085",
   "metadata": {
    "slideshow": {
     "slide_type": "slide"
    }
   },
   "source": [
    "## Modifying the Standard String Features"
   ]
  },
  {
   "cell_type": "code",
   "execution_count": 2,
   "id": "3c6707fc-c5ee-48f3-92bd-66a48bdf0128",
   "metadata": {
    "slideshow": {
     "slide_type": "fragment"
    }
   },
   "outputs": [
    {
     "name": "stdout",
     "output_type": "stream",
     "text": [
      "True\n",
      "False\n"
     ]
    }
   ],
   "source": [
    "from collections import UserString\n",
    "\n",
    "# Make the comparison operators case-insensitive\n",
    "class CIString(UserString):\n",
    "    def __eq__(self, other):\n",
    "        return self.data.lower() == other.lower()\n",
    "    \n",
    "    def __lt__(self, other):\n",
    "        return self.data.lower() < other.lower()\n",
    "    \n",
    "    def __gt__(self, other):\n",
    "        return self.data.lower() > other.lower()\n",
    "\n",
    "\n",
    "str1 = CIString(\"ABCD\")\n",
    "str2 = \"abCD\"\n",
    "str3 = \"Abcd\"\n",
    "\n",
    "print(str1 == str2)\n",
    "print(str2 == str3)"
   ]
  },
  {
   "cell_type": "markdown",
   "id": "4a84e057-563b-4126-9647-0be4925dd044",
   "metadata": {
    "slideshow": {
     "slide_type": "slide"
    }
   },
   "source": [
    "This modification works with the `str` class as well. "
   ]
  },
  {
   "cell_type": "code",
   "execution_count": 3,
   "id": "f6160e83-afa2-4b7b-b173-81784cf3d415",
   "metadata": {
    "slideshow": {
     "slide_type": "fragment"
    }
   },
   "outputs": [
    {
     "name": "stdout",
     "output_type": "stream",
     "text": [
      "True\n",
      "False\n"
     ]
    }
   ],
   "source": [
    "# Make the comparison operators case-insensitive\n",
    "class CIString(str):\n",
    "    def __eq__(self, other):\n",
    "        return self.lower() == other.lower()\n",
    "    \n",
    "    def __lt__(self, other):\n",
    "        return self.lower() < other.lower()\n",
    "    \n",
    "    def __gt__(self, other):\n",
    "        return self.lower() > other.lower()\n",
    "\n",
    "\n",
    "str1 = CIString(\"ABCD\")\n",
    "str2 = \"abCD\"\n",
    "str3 = \"Abcd\"\n",
    "\n",
    "print(str1 == str2)\n",
    "print(str2 == str3)"
   ]
  },
  {
   "cell_type": "code",
   "execution_count": 4,
   "id": "4c0d1d40-dcf9-42cf-84b7-68ddee18d361",
   "metadata": {
    "slideshow": {
     "slide_type": "slide"
    }
   },
   "outputs": [
    {
     "name": "stdout",
     "output_type": "stream",
     "text": [
      "https://example.com/search?q=Moby-Dick%3B+or%2C+The+Whale\n"
     ]
    }
   ],
   "source": [
    "from collections import UserString\n",
    "from urllib.parse import quote_plus\n",
    "\n",
    "class URLEncodedString(UserString):\n",
    "    def __init__(self, string):\n",
    "        encoded = quote_plus(string)\n",
    "        super().__init__(encoded)\n",
    "\n",
    "\n",
    "# User's search query\n",
    "book_title = \"Moby-Dick; or, The Whale\"\n",
    "\n",
    "# Creating an instance of URLEncodedString with the book title\n",
    "encoded_title = URLEncodedString(book_title)\n",
    "\n",
    "# Example of how the encoded string can be used in a URL\n",
    "search_url = f\"https://example.com/search?q={encoded_title}\"\n",
    "\n",
    "print(search_url)"
   ]
  },
  {
   "cell_type": "markdown",
   "id": "42e9d100-b6c0-4995-8a68-eaa3fb02de46",
   "metadata": {
    "slideshow": {
     "slide_type": "slide"
    }
   },
   "source": [
    "The same class implementation will produce an error when we decide to use `str`."
   ]
  },
  {
   "cell_type": "code",
   "execution_count": 5,
   "id": "d583c4b2-a7d2-4f98-b761-18dce878ecd7",
   "metadata": {
    "slideshow": {
     "slide_type": "fragment"
    }
   },
   "outputs": [
    {
     "ename": "TypeError",
     "evalue": "object.__init__() takes exactly one argument (the instance to initialize)",
     "output_type": "error",
     "traceback": [
      "\u001b[0;31m---------------------------------------------------------------------------\u001b[0m",
      "\u001b[0;31mTypeError\u001b[0m                                 Traceback (most recent call last)",
      "Cell \u001b[0;32mIn [5], line 13\u001b[0m\n\u001b[1;32m     10\u001b[0m book_title \u001b[38;5;241m=\u001b[39m \u001b[38;5;124m\"\u001b[39m\u001b[38;5;124mMoby-Dick; or, The Whale\u001b[39m\u001b[38;5;124m\"\u001b[39m\n\u001b[1;32m     12\u001b[0m \u001b[38;5;66;03m# Creating an instance of URLEncodedString with the book title\u001b[39;00m\n\u001b[0;32m---> 13\u001b[0m encoded_title \u001b[38;5;241m=\u001b[39m \u001b[43mURLEncodedString\u001b[49m\u001b[43m(\u001b[49m\u001b[43mbook_title\u001b[49m\u001b[43m)\u001b[49m\n\u001b[1;32m     15\u001b[0m \u001b[38;5;66;03m# Example of how the encoded string can be used in a URL\u001b[39;00m\n\u001b[1;32m     16\u001b[0m search_url \u001b[38;5;241m=\u001b[39m \u001b[38;5;124mf\u001b[39m\u001b[38;5;124m\"\u001b[39m\u001b[38;5;124mhttps://example.com/search?q=\u001b[39m\u001b[38;5;132;01m{\u001b[39;00mencoded_title\u001b[38;5;132;01m}\u001b[39;00m\u001b[38;5;124m\"\u001b[39m\n",
      "Cell \u001b[0;32mIn [5], line 6\u001b[0m, in \u001b[0;36mURLEncodedString.__init__\u001b[0;34m(self, string)\u001b[0m\n\u001b[1;32m      4\u001b[0m \u001b[38;5;28;01mdef\u001b[39;00m \u001b[38;5;21m__init__\u001b[39m(\u001b[38;5;28mself\u001b[39m, string):\n\u001b[1;32m      5\u001b[0m     encoded \u001b[38;5;241m=\u001b[39m quote_plus(string)\n\u001b[0;32m----> 6\u001b[0m     \u001b[38;5;28;43msuper\u001b[39;49m\u001b[43m(\u001b[49m\u001b[43m)\u001b[49m\u001b[38;5;241;43m.\u001b[39;49m\u001b[38;5;21;43m__init__\u001b[39;49m\u001b[43m(\u001b[49m\u001b[43mencoded\u001b[49m\u001b[43m)\u001b[49m\n",
      "\u001b[0;31mTypeError\u001b[0m: object.__init__() takes exactly one argument (the instance to initialize)"
     ]
    }
   ],
   "source": [
    "from urllib.parse import quote_plus\n",
    "\n",
    "class URLEncodedString(str):\n",
    "    def __init__(self, string):\n",
    "        encoded = quote_plus(string)\n",
    "        super().__init__(encoded)\n",
    "\n",
    "\n",
    "# User's search query\n",
    "book_title = \"Moby-Dick; or, The Whale\"\n",
    "\n",
    "# Creating an instance of URLEncodedString with the book title\n",
    "encoded_title = URLEncodedString(book_title)\n",
    "\n",
    "# Example of how the encoded string can be used in a URL\n",
    "search_url = f\"https://example.com/search?q={encoded_title}\"\n",
    "\n",
    "print(search_url)"
   ]
  }
 ],
 "metadata": {
  "celltoolbar": "Slideshow",
  "kernelspec": {
   "display_name": "Python 3 (ipykernel)",
   "language": "python",
   "name": "python3"
  },
  "language_info": {
   "codemirror_mode": {
    "name": "ipython",
    "version": 3
   },
   "file_extension": ".py",
   "mimetype": "text/x-python",
   "name": "python",
   "nbconvert_exporter": "python",
   "pygments_lexer": "ipython3",
   "version": "3.11.7"
  }
 },
 "nbformat": 4,
 "nbformat_minor": 5
}
